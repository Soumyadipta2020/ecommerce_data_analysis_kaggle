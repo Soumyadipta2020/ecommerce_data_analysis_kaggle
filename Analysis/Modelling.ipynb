{
 "cells": [
  {
   "cell_type": "markdown",
   "metadata": {},
   "source": [
    "# Import libraries"
   ]
  },
  {
   "cell_type": "code",
   "execution_count": 5,
   "metadata": {},
   "outputs": [],
   "source": [
    "import numpy as np\n",
    "import pandas as pd"
   ]
  },
  {
   "cell_type": "markdown",
   "metadata": {},
   "source": [
    "# Import data"
   ]
  },
  {
   "cell_type": "code",
   "execution_count": 8,
   "metadata": {},
   "outputs": [
    {
     "data": {
      "text/html": [
       "<div>\n",
       "<style scoped>\n",
       "    .dataframe tbody tr th:only-of-type {\n",
       "        vertical-align: middle;\n",
       "    }\n",
       "\n",
       "    .dataframe tbody tr th {\n",
       "        vertical-align: top;\n",
       "    }\n",
       "\n",
       "    .dataframe thead th {\n",
       "        text-align: right;\n",
       "    }\n",
       "</style>\n",
       "<table border=\"1\" class=\"dataframe\">\n",
       "  <thead>\n",
       "    <tr style=\"text-align: right;\">\n",
       "      <th></th>\n",
       "      <th>Purchase Date</th>\n",
       "      <th>Amount Type</th>\n",
       "      <th>Amount</th>\n",
       "    </tr>\n",
       "  </thead>\n",
       "  <tbody>\n",
       "    <tr>\n",
       "      <th>0</th>\n",
       "      <td>2019-09-01</td>\n",
       "      <td>Net Amount</td>\n",
       "      <td>9.253245e+05</td>\n",
       "    </tr>\n",
       "    <tr>\n",
       "      <th>1</th>\n",
       "      <td>2019-09-01</td>\n",
       "      <td>Discount Amount INR</td>\n",
       "      <td>4.051689e+04</td>\n",
       "    </tr>\n",
       "    <tr>\n",
       "      <th>2</th>\n",
       "      <td>2019-10-01</td>\n",
       "      <td>Net Amount</td>\n",
       "      <td>2.698058e+06</td>\n",
       "    </tr>\n",
       "    <tr>\n",
       "      <th>3</th>\n",
       "      <td>2019-10-01</td>\n",
       "      <td>Discount Amount INR</td>\n",
       "      <td>1.376074e+05</td>\n",
       "    </tr>\n",
       "    <tr>\n",
       "      <th>4</th>\n",
       "      <td>2019-11-01</td>\n",
       "      <td>Net Amount</td>\n",
       "      <td>2.713950e+06</td>\n",
       "    </tr>\n",
       "  </tbody>\n",
       "</table>\n",
       "</div>"
      ],
      "text/plain": [
       "  Purchase Date          Amount Type        Amount\n",
       "0    2019-09-01           Net Amount  9.253245e+05\n",
       "1    2019-09-01  Discount Amount INR  4.051689e+04\n",
       "2    2019-10-01           Net Amount  2.698058e+06\n",
       "3    2019-10-01  Discount Amount INR  1.376074e+05\n",
       "4    2019-11-01           Net Amount  2.713950e+06"
      ]
     },
     "execution_count": 8,
     "metadata": {},
     "output_type": "execute_result"
    }
   ],
   "source": [
    "df = pd.read_csv(\"data/export/net_amount_discount_monthly.csv\", header=0)\n",
    "df.head()"
   ]
  },
  {
   "cell_type": "markdown",
   "metadata": {},
   "source": [
    "# Data Manipulation"
   ]
  },
  {
   "cell_type": "markdown",
   "metadata": {},
   "source": [
    " - Extend the data to create a complete timeline of the data\n",
    " - Interpolate missing values"
   ]
  },
  {
   "cell_type": "code",
   "execution_count": 9,
   "metadata": {},
   "outputs": [],
   "source": [
    "# Convert Purchase Date to datetime\n",
    "df[\"Purchase Date\"] = pd.to_datetime(df[\"Purchase Date\"])\n",
    "\n",
    "# Get unique amount types\n",
    "amount_types = df[\"Amount Type\"].unique()\n",
    "\n",
    "# Create an empty dataframe to store the results\n",
    "result_df = pd.DataFrame()\n",
    "\n",
    "# Process each amount type\n",
    "for amount_type in amount_types:\n",
    "    # Filter data for current amount type\n",
    "    type_data = df[df[\"Amount Type\"] == amount_type].copy()\n",
    "    # Get min and max dates for this amount type\n",
    "    min_date = type_data[\"Purchase Date\"].min()\n",
    "    max_date = type_data[\"Purchase Date\"].max()\n",
    "    # Create date range specific to this amount type\n",
    "    date_range = pd.date_range(start=min_date, end=max_date, freq=\"MS\")\n",
    "    # Create complete timeline for this amount type\n",
    "    complete_df = pd.DataFrame({\"Purchase Date\": date_range})\n",
    "    complete_df = complete_df.merge(type_data, on=\"Purchase Date\", how=\"left\")\n",
    "    # Fill missing Amount Type\n",
    "    complete_df[\"Amount Type\"] = amount_type\n",
    "    # Fill missing values with NaN\n",
    "    complete_df[\"Amount\"] = complete_df[\"Amount\"].fillna(np.nan)\n",
    "    # Interpolate missing values\n",
    "    complete_df[\"Amount\"] = complete_df[\"Amount\"].interpolate(\n",
    "        method=\"linear\", limit_direction=\"both\"\n",
    "    )\n",
    "    # Append to the result dataframe\n",
    "    result_df = pd.concat([result_df, complete_df])\n",
    "\n",
    "# Sort the final dataframe\n",
    "result_df = result_df.sort_values([\"Purchase Date\", \"Amount Type\"]).reset_index(\n",
    "    drop=True\n",
    ")"
   ]
  },
  {
   "cell_type": "code",
   "execution_count": null,
   "metadata": {},
   "outputs": [],
   "source": []
  }
 ],
 "metadata": {
  "kernelspec": {
   "display_name": "Python 3",
   "language": "python",
   "name": "python3"
  },
  "language_info": {
   "codemirror_mode": {
    "name": "ipython",
    "version": 3
   },
   "file_extension": ".py",
   "mimetype": "text/x-python",
   "name": "python",
   "nbconvert_exporter": "python",
   "pygments_lexer": "ipython3",
   "version": "3.13.0"
  }
 },
 "nbformat": 4,
 "nbformat_minor": 2
}
